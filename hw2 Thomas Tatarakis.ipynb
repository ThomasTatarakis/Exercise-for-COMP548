{
 "cells": [
  {
   "cell_type": "code",
   "execution_count": 1,
   "id": "e4151fa7",
   "metadata": {},
   "outputs": [
    {
     "name": "stdout",
     "output_type": "stream",
     "text": [
      "env: GOOGLE_APPLICATION_CREDENTIALS=C:\\Users\\THOMAS\\Documents\\DATA SCIENCE\\big data\\COMP548DL-main\\Lecture5\\southern-ivy-403822-08cc4ea87309.json\n"
     ]
    }
   ],
   "source": [
    "%env GOOGLE_APPLICATION_CREDENTIALS=C:\\Users\\THOMAS\\Documents\\DATA SCIENCE\\big data\\COMP548DL-main\\Lecture5\\southern-ivy-403822-08cc4ea87309.json"
   ]
  },
  {
   "cell_type": "code",
   "execution_count": 2,
   "id": "7f77766e",
   "metadata": {},
   "outputs": [],
   "source": [
    "import sys"
   ]
  },
  {
   "cell_type": "code",
   "execution_count": 3,
   "id": "e5a4e613",
   "metadata": {},
   "outputs": [],
   "source": [
    "from google.cloud import firestore\n",
    "\n",
    "db = firestore.Client()"
   ]
  },
  {
   "cell_type": "code",
   "execution_count": 5,
   "id": "a418a44a",
   "metadata": {},
   "outputs": [
    {
     "data": {
      "text/plain": [
       "update_time {\n",
       "  seconds: 1699207967\n",
       "  nanos: 933866000\n",
       "}"
      ]
     },
     "execution_count": 5,
     "metadata": {},
     "output_type": "execute_result"
    }
   ],
   "source": [
    "doc_ref = db.collection(u'Dimension Docs').document(u'axz2r12')\n",
    "doc_ref.set({\n",
    "    u'document_id': u'41253',\n",
    "    u'documet_name': u'the game'\n",
    "})"
   ]
  },
  {
   "cell_type": "code",
   "execution_count": 7,
   "id": "a5d9c172",
   "metadata": {},
   "outputs": [
    {
     "data": {
      "text/plain": [
       "update_time {\n",
       "  seconds: 1699208267\n",
       "  nanos: 52318000\n",
       "}"
      ]
     },
     "execution_count": 7,
     "metadata": {},
     "output_type": "execute_result"
    }
   ],
   "source": [
    "doc_ref = db.collection(u'Dimension Users').document(u'axz2r13')\n",
    "doc_ref.set({\n",
    "    u'user_id': u'452',\n",
    "    u'username': u'ThomasTatarakis'\n",
    "})"
   ]
  },
  {
   "cell_type": "code",
   "execution_count": 8,
   "id": "cd88cf10",
   "metadata": {},
   "outputs": [
    {
     "data": {
      "text/plain": [
       "update_time {\n",
       "  seconds: 1699208591\n",
       "  nanos: 196315000\n",
       "}"
      ]
     },
     "execution_count": 8,
     "metadata": {},
     "output_type": "execute_result"
    }
   ],
   "source": [
    "doc_ref = db.collection(u'Edit Docs').document(u'axz2r14')\n",
    "doc_ref.set({\n",
    "    u'edit_id': u'1',\n",
    "    u'document_id': u'41253',\n",
    "    u'user_id': u'452',\n",
    "    u'timestamp': '2023-10-28T15:30:00.000Z'\n",
    "})"
   ]
  },
  {
   "cell_type": "code",
   "execution_count": 9,
   "id": "9bca5cb1",
   "metadata": {},
   "outputs": [
    {
     "data": {
      "text/plain": [
       "update_time {\n",
       "  seconds: 1699208813\n",
       "  nanos: 301777000\n",
       "}"
      ]
     },
     "execution_count": 9,
     "metadata": {},
     "output_type": "execute_result"
    }
   ],
   "source": [
    "doc_ref = db.collection(u'Collaboration').document(u'axz2r15')\n",
    "doc_ref.set({\n",
    "    u'collaboration_id': u'142',\n",
    "    u'document_id': u'41253',\n",
    "    u'user_id': u'452'\n",
    "})"
   ]
  },
  {
   "cell_type": "code",
   "execution_count": 12,
   "id": "05d1f701",
   "metadata": {},
   "outputs": [
    {
     "data": {
      "text/plain": [
       "'Lkqvit1jk31ogURAoM2K'"
      ]
     },
     "execution_count": 12,
     "metadata": {},
     "output_type": "execute_result"
    }
   ],
   "source": [
    "col_ref = db.collection(u'Dimension Docs')\n",
    "doc_ref = col_ref.document()\n",
    "doc_ref.id"
   ]
  },
  {
   "cell_type": "code",
   "execution_count": 14,
   "id": "177c2bd4",
   "metadata": {},
   "outputs": [
    {
     "name": "stdout",
     "output_type": "stream",
     "text": [
      "axz2r12 the game {'documet_name': 'the game', 'document_id': '41253'}\n"
     ]
    }
   ],
   "source": [
    "docs_ref = db.collection(u'Dimension Docs')\n",
    "doc_ref = docs_ref.document(u'axz2r12')\n",
    "doc = doc_ref.get()\n",
    "if doc.exists:\n",
    "    print(doc.id, doc.get('documet_name'), doc.to_dict())"
   ]
  },
  {
   "cell_type": "code",
   "execution_count": 15,
   "id": "4c3ca159",
   "metadata": {},
   "outputs": [
    {
     "name": "stdout",
     "output_type": "stream",
     "text": [
      "{'documet_name': 'the game', 'document_id': '41253'}\n"
     ]
    }
   ],
   "source": [
    "docs_ref = db.collection(u'Dimension Docs')\n",
    "doc_ref = docs_ref.document(u'axz2r12')\n",
    "doc = doc_ref.get()\n",
    "if doc.exists:\n",
    "    print( doc.to_dict())"
   ]
  },
  {
   "cell_type": "code",
   "execution_count": null,
   "id": "3490b03e",
   "metadata": {},
   "outputs": [],
   "source": []
  }
 ],
 "metadata": {
  "kernelspec": {
   "display_name": "Python 3 (ipykernel)",
   "language": "python",
   "name": "python3"
  },
  "language_info": {
   "codemirror_mode": {
    "name": "ipython",
    "version": 3
   },
   "file_extension": ".py",
   "mimetype": "text/x-python",
   "name": "python",
   "nbconvert_exporter": "python",
   "pygments_lexer": "ipython3",
   "version": "3.9.7"
  }
 },
 "nbformat": 4,
 "nbformat_minor": 5
}
